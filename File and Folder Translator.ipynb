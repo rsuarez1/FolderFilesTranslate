{
 "cells": [
  {
   "cell_type": "code",
   "execution_count": 1,
   "id": "4b13ec16-a88b-46be-b675-07b65325ad83",
   "metadata": {},
   "outputs": [],
   "source": [
    "import os\n",
    "from deep_translator import GoogleTranslator\n",
    "import re"
   ]
  },
  {
   "cell_type": "code",
   "execution_count": null,
   "id": "979e0ed1-6264-4a77-b920-c7390034dfb1",
   "metadata": {},
   "outputs": [],
   "source": [
    "def is_english(s):\n",
    "    # Attempt to encode and decode the string 's' to ASCII\n",
    "    # If it fails, the string contains non-ASCII characters\n",
    "    try:\n",
    "        s.encode(encoding='utf-8').decode('ascii')\n",
    "    except UnicodeDecodeError:\n",
    "        # Return False if non-ASCII characters are found\n",
    "        return False\n",
    "    else:\n",
    "        # Return True if the string is ASCII-only\n",
    "        return True\n",
    "\n",
    "def remove_extra_spaces(text):\n",
    "    # Remove leading and trailing spaces\n",
    "    text = text.strip()\n",
    "    # Replace multiple spaces with a single space\n",
    "    text = re.sub(r'\\s+', ' ', text)\n",
    "    return text\n",
    "\n",
    "failed_translation = []\n",
    "\n",
    "def translate_name(name):\n",
    "    # Translate the name using Google Translator from the deep_translator library\n",
    "    translator = GoogleTranslator(source='auto', target='en')\n",
    "    try:\n",
    "         # Translate the name and clean up the result\n",
    "        translated_name = translator.translate(name)\n",
    "        translated_name = remove_extra_spaces(translated_name)\n",
    "        return translated_name\n",
    "    \n",
    "    except Exception as e:            \n",
    "        # Append the failed translation details to the list\n",
    "        failed_translation.append(\n",
    "            {\n",
    "                \"File/Folder Name\": name,\n",
    "                \"Exception\": e,\n",
    "            }\n",
    "        )\n",
    "\n",
    "        print(f\"\\nRename Error:\\n\\tOriginal Name: {name}\\n\\tException: {e}\")\n",
    "        \n",
    "        return name\n",
    "\n",
    "def rename_files_and_folders(root_path):\n",
    "    # Walk through the directory structure starting from 'root_path'\n",
    "    for root, dirs, files in os.walk(root_path, topdown=False):\n",
    "        \n",
    "        # Process each file in the directory\n",
    "        for name in files:\n",
    "            if not is_english(name):\n",
    "                new_name = translate_name(name)\n",
    "                old_path = os.path.join(root, name)\n",
    "                new_path = os.path.join(root, new_name)\n",
    "                os.rename(old_path, new_path)\n",
    "                print(f\"Renamed File:\\n\\t {old_path} \\nto: \\n\\t {new_path}\\n\\n\")\n",
    "\n",
    "        # Process each directory in the current directory\n",
    "        for name in dirs:\n",
    "            if not is_english(name):\n",
    "                new_name = translate_name(name)\n",
    "                old_path = os.path.join(root, name)\n",
    "                new_path = os.path.join(root, new_name)\n",
    "                os.rename(old_path, new_path)\n",
    "                print(f\"Renamed Folder:\\n\\t {old_path} \\nto: \\n\\t {new_path}\\n\\n\")"
   ]
  },
  {
   "cell_type": "code",
   "execution_count": 15,
   "id": "56455c54-839a-49e1-a690-50a3a00bb00b",
   "metadata": {},
   "outputs": [
    {
     "name": "stdout",
     "output_type": "stream",
     "text": [
      "\n",
      "All files and folders translated successfully.\n"
     ]
    }
   ],
   "source": [
    "# The name of every file and folder inside the path below will be translated into English\n",
    "# The contents of each file will remain intact\n",
    "\n",
    "folder_path = \"C:/XXXXXXXXXXXXXXXXXX\"\n",
    "\n",
    "rename_files_and_folders(folder_path)\n",
    "\n",
    "if len(failed_translation) == 0:\n",
    "    print(\"\\nAll files and folders translated successfully.\")\n",
    "else:\n",
    "    print(f\"\\n{len(failed_translation)} were not translated or had issues, please check.\")"
   ]
  }
 ],
 "metadata": {
  "kernelspec": {
   "display_name": "Python 3 (ipykernel)",
   "language": "python",
   "name": "python3"
  },
  "language_info": {
   "codemirror_mode": {
    "name": "ipython",
    "version": 3
   },
   "file_extension": ".py",
   "mimetype": "text/x-python",
   "name": "python",
   "nbconvert_exporter": "python",
   "pygments_lexer": "ipython3",
   "version": "3.11.7"
  }
 },
 "nbformat": 4,
 "nbformat_minor": 5
}
